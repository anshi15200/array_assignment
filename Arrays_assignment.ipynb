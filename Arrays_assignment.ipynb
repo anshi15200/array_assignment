{
  "nbformat": 4,
  "nbformat_minor": 0,
  "metadata": {
    "colab": {
      "provenance": []
    },
    "kernelspec": {
      "name": "python3",
      "display_name": "Python 3"
    },
    "language_info": {
      "name": "python"
    }
  },
  "cells": [
    {
      "cell_type": "markdown",
      "source": [
        "1. Given an array, check if it contains any duplicates or not.\n",
        "arr = [1, 2, 4, 2, 5, 9]\n",
        "Output = True\n"
      ],
      "metadata": {
        "id": "X0qU_k2B_98O"
      }
    },
    {
      "cell_type": "code",
      "execution_count": null,
      "metadata": {
        "colab": {
          "base_uri": "https://localhost:8080/"
        },
        "id": "sCWIGOyY_3vy",
        "outputId": "1435b60a-8b78-4227-fc9f-577598a9f348"
      },
      "outputs": [
        {
          "output_type": "stream",
          "name": "stdout",
          "text": [
            "True\n"
          ]
        }
      ],
      "source": [
        "def duplicate(arr):\n",
        "  arr.sort()\n",
        "  for i in range(len(arr)-1):\n",
        "    if arr[i]==arr[i+1]:\n",
        "      return True\n",
        "  return False\n",
        "arr= [1, 2, 4, 2, 5, 9]\n",
        "print(duplicate(arr))"
      ]
    },
    {
      "cell_type": "markdown",
      "source": [
        "2. Given an array and an integer k, rotate the array to the right by k steps.\n",
        "arr = [1, 2, 3, 4, 5, 6, 7] k = 3\n",
        "Output = [5, 6, 7, 1, 2, 3, 4]"
      ],
      "metadata": {
        "id": "gCg2c7PeBUJf"
      }
    },
    {
      "cell_type": "code",
      "source": [
        "def reverseArray(arr, start, end):\n",
        "    while start < end:\n",
        "        arr[start], arr[end] = arr[end], arr[start]\n",
        "        start += 1\n",
        "        end -= 1\n",
        "\n",
        "def rotateArray(arr, k):\n",
        "    n = len(arr)\n",
        "    k = k % n\n",
        "    reverseArray(arr, 0, n - 1)\n",
        "    reverseArray(arr, 0, k - 1)\n",
        "    reverseArray(arr, k, n - 1)\n",
        "\n",
        "arr = [1, 2, 3, 4, 5, 6, 7]\n",
        "k = 3\n",
        "rotateArray(arr, k)\n",
        "print(arr)\n",
        "\n"
      ],
      "metadata": {
        "colab": {
          "base_uri": "https://localhost:8080/"
        },
        "id": "fFVsdBecA4D4",
        "outputId": "43e1b5df-d4df-4e15-dd88-54cc9d923278"
      },
      "execution_count": null,
      "outputs": [
        {
          "output_type": "stream",
          "name": "stdout",
          "text": [
            "[5, 6, 7, 1, 2, 3, 4]\n"
          ]
        }
      ]
    },
    {
      "cell_type": "markdown",
      "source": [
        "3. Reverse the given array in-place, means without using any extra data structure.\n",
        "arr = [2, 4, 5, 7, 9, 12]\n",
        "Output = [12, 9, 7, 5, 4, 2]"
      ],
      "metadata": {
        "id": "6GkqmVNsHAGO"
      }
    },
    {
      "cell_type": "code",
      "source": [
        "def reverseArray(arr, start, end):\n",
        "    while start < end:\n",
        "        arr[start], arr[end] = arr[end], arr[start]\n",
        "        start += 1\n",
        "        end -= 1\n",
        "arr=[2, 4, 5, 7, 9, 12]\n",
        "reverseArray(arr,0,len(arr)-1)\n",
        "print(arr)"
      ],
      "metadata": {
        "colab": {
          "base_uri": "https://localhost:8080/"
        },
        "id": "pPwIehh7FMai",
        "outputId": "85c438cd-6248-4058-c6bf-bfe8caf3c227"
      },
      "execution_count": null,
      "outputs": [
        {
          "output_type": "stream",
          "name": "stdout",
          "text": [
            "[12, 9, 7, 5, 4, 2]\n"
          ]
        }
      ]
    },
    {
      "cell_type": "markdown",
      "source": [
        "4. Given an array of integers, find the maximum element in an array\n",
        "arr = [10, 5, 20, 8, 15]\n",
        "Output = 20"
      ],
      "metadata": {
        "id": "yqeDd71xIILY"
      }
    },
    {
      "cell_type": "code",
      "source": [
        "def maximum(arr):\n",
        "  max=arr[0]\n",
        "  for i in range(0,len(arr)):\n",
        "    if arr[i]>max:\n",
        "      max= arr[i]\n",
        "  return max\n",
        "arr = [10, 5, 20, 8, 15]\n",
        "print(maximum(arr))\n"
      ],
      "metadata": {
        "colab": {
          "base_uri": "https://localhost:8080/"
        },
        "id": "zkV3FOvWHvpU",
        "outputId": "75032155-0911-4455-a667-cd4da449c560"
      },
      "execution_count": null,
      "outputs": [
        {
          "output_type": "stream",
          "name": "stdout",
          "text": [
            "20\n"
          ]
        }
      ]
    },
    {
      "cell_type": "markdown",
      "source": [
        "5. Given a sorted array, remove the duplicate element without using any extra data structure.\n",
        "arr = [1, 1, 2, 2, 2, 3, 3, 4, 4, 4, 5, 5]\n",
        "Output = [1, 2, 3, 4, 5]"
      ],
      "metadata": {
        "id": "4Jd5-jEvKfE1"
      }
    },
    {
      "cell_type": "code",
      "source": [
        "def remove_duplicate(arr):\n",
        "  arr.sort()\n",
        "  i=0\n",
        "  while i<len(arr)-1:\n",
        "    if arr[i]==arr[i+1]:\n",
        "      arr.remove(arr[i])\n",
        "    else:\n",
        "      i+=1\n",
        "  return arr\n",
        "arr = [1, 1, 2, 2, 2, 3, 3, 4, 4, 4, 5, 5]\n",
        "print(remove_duplicate(arr))"
      ],
      "metadata": {
        "id": "giUVE98yJPn2",
        "colab": {
          "base_uri": "https://localhost:8080/"
        },
        "outputId": "47f897ae-6e6d-4b16-ba82-4a98712f5af4"
      },
      "execution_count": 3,
      "outputs": [
        {
          "output_type": "stream",
          "name": "stdout",
          "text": [
            "[1, 2, 3, 4, 5]\n"
          ]
        }
      ]
    }
  ]
}